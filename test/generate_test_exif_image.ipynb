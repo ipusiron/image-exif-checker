!pip install piexif pillow

from PIL import Image
import piexif
import piexif.helper

# 白い画像を作成
img = Image.new("RGB", (400, 300), color=(255, 255, 255))
img.save("test_sensitive.jpg")

# Exifデータの作成
exif_dict = {
    "0th": {
        piexif.ImageIFD.Make: b"Canon",
        piexif.ImageIFD.Model: b"EOS 80D",
        piexif.ImageIFD.Software: b"Adobe Photoshop",
        piexif.ImageIFD.Artist: b"John Doe"
    },
    "Exif": {
        piexif.ExifIFD.DateTimeOriginal: b"2023:06:01 12:34:56",
        piexif.ExifIFD.UserComment: piexif.helper.UserComment.dump("Sensitive test comment")
    },
    "GPS": {
        piexif.GPSIFD.GPSLatitudeRef: b"N",
        piexif.GPSIFD.GPSLatitude: ((35, 1), (41, 1), (22, 1)),
        piexif.GPSIFD.GPSLongitudeRef: b"E",
        piexif.GPSIFD.GPSLongitude: ((139, 1), (41, 1), (18, 1))
    }
}

exif_bytes = piexif.dump(exif_dict)
piexif.insert(exif_bytes, "test_sensitive.jpg")
